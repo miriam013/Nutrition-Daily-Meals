{
  "nbformat": 4,
  "nbformat_minor": 0,
  "metadata": {
    "colab": {
      "provenance": [],
      "include_colab_link": true
    },
    "kernelspec": {
      "name": "python3",
      "display_name": "Python 3"
    },
    "language_info": {
      "name": "python"
    }
  },
  "cells": [
    {
      "cell_type": "markdown",
      "metadata": {
        "id": "view-in-github",
        "colab_type": "text"
      },
      "source": [
        "<a href=\"https://colab.research.google.com/github/miriam013/Nutrition-Daily-Meals/blob/main/Nutrition_Daily_Meals.ipynb\" target=\"_parent\"><img src=\"https://colab.research.google.com/assets/colab-badge.svg\" alt=\"Open In Colab\"/></a>"
      ]
    },
    {
      "cell_type": "markdown",
      "source": [
        "# **Descripción**\n",
        "\n",
        "**Autores**\n",
        "\n",
        "Alejandro Peña Paz y Miriam Ramírez Sánchez-Aranzueque\n"
      ],
      "metadata": {
        "id": "IUtOwfZPQHjN"
      }
    },
    {
      "cell_type": "markdown",
      "source": [
        "# **Introducción**\n",
        "\n",
        "En este cuaderno....."
      ],
      "metadata": {
        "id": "WWUPwqSeRtWe"
      }
    },
    {
      "cell_type": "markdown",
      "source": [
        "# **Descripción de las variables**\n",
        "\n",
        "*   age: edad (numerica)\n",
        "*   gender: géne\n",
        "\n"
      ],
      "metadata": {
        "id": "76SG-AuiSN6P"
      }
    },
    {
      "cell_type": "markdown",
      "source": [
        "# **Obtención de datos**"
      ],
      "metadata": {
        "id": "mZC7r5waVevi"
      }
    }
  ]
}